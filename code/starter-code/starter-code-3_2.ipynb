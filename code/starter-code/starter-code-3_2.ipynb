{
 "cells": [
  {
   "cell_type": "markdown",
   "metadata": {
    "button": false,
    "deletable": true,
    "new_sheet": false,
    "run_control": {
     "read_only": false
    }
   },
   "source": [
    "# Random Forest and Boosting Lab\n",
    "\n",
    "In this lab we will practice using Random Forest Regressor and Boosted Trees Regressor on the Project 6 Data.\n",
    "\n",
    "> Instructor Notes:\n",
    "- This walks the students through a sample dataset, they should actually do it on the full dataset they have created as part of Project 6.\n",
    "- The code for this lab is shorter than usual in order to give the students time to practice with Tableau."
   ]
  },
  {
   "cell_type": "markdown",
   "metadata": {
    "button": false,
    "deletable": true,
    "new_sheet": false,
    "run_control": {
     "read_only": false
    }
   },
   "source": [
    "## 1. Load and inspect the data\n",
    "\n",
    "As part of your work of project 6 you should have retrieved the top 250 movies from IMDB. Conduct this lab on the data you have retrieved.\n",
    "\n",
    "In the [asset folder](../../assets/datasets/imdb_p6_sample.csv) you can find a subset of the movies, in case you have not completed yet Project 6.\n",
    "\n",
    "1. Load the dataset and inspect it\n",
    "- Assign the rating to a y vector and the binary columns to an X feature matrix\n",
    "- What would you do with the year variable?\n",
    "> Answer: normalize it and use it as feature"
   ]
  },
  {
   "cell_type": "code",
   "execution_count": 115,
   "metadata": {
    "button": false,
    "collapsed": false,
    "deletable": true,
    "new_sheet": false,
    "run_control": {
     "read_only": false
    }
   },
   "outputs": [],
   "source": [
    "import pandas as pd\n",
    "import numpy as np\n",
    "import matplotlib.pyplot as plt\n",
    "from sklearn.preprocessing import StandardScaler\n",
    "from sklearn.tree import DecisionTreeRegressor\n",
    "from sklearn.model_selection import train_test_split, cross_val_score\n",
    "from sklearn.ensemble import RandomForestRegressor, AdaBoostRegressor, GradientBoostingRegressor\n",
    "%matplotlib inline"
   ]
  },
  {
   "cell_type": "code",
   "execution_count": 119,
   "metadata": {
    "collapsed": false
   },
   "outputs": [
    {
     "data": {
      "text/plain": [
       "Index([u'imdbRating', u'imdbVotes', u'Gross', u'aamir khan', u'al pacino',\n",
       "       u'alec guinness', u'ben kingsley', u'brad pitt', u'bruce willis',\n",
       "       u'carrie fisher',\n",
       "       ...\n",
       "       u'war_y', u'war ii', u'way', u'wife', u'woman', u'work', u'world',\n",
       "       u'world war', u'year', u'young'],\n",
       "      dtype='object', length=153)"
      ]
     },
     "execution_count": 119,
     "metadata": {},
     "output_type": "execute_result"
    }
   ],
   "source": [
    "df = pd.read_csv('imdb.csv', sep='\\t')\n",
    "df.columns[19:]"
   ]
  },
  {
   "cell_type": "code",
   "execution_count": 120,
   "metadata": {
    "button": false,
    "collapsed": false,
    "deletable": true,
    "new_sheet": false,
    "run_control": {
     "read_only": false
    }
   },
   "outputs": [],
   "source": [
    "# Assign the rating to a y vector and the binary columns to an X feature matrix\n",
    "df = pd.read_csv('imdb.csv', sep='\\t')\n",
    "df.columns[:25]\n",
    "y = df['imdbRating']\n",
    "X = df.iloc[:,20:]\n",
    "scaler = StandardScaler()\n",
    "X_scld = scaler.fit_transform(X)"
   ]
  },
  {
   "cell_type": "markdown",
   "metadata": {
    "button": false,
    "deletable": true,
    "new_sheet": false,
    "run_control": {
     "read_only": false
    }
   },
   "source": [
    "## 2. Decision Tree Regressor\n",
    "\n",
    "\n",
    "1. Train a decision tree regressor on the data and estimate the rating\n",
    "- Evaluate the score with a 3-fold shuffled cross validation\n",
    "- Do a scatter plot of the predicted vs actual scores for each of the 3 folds, do they match?\n",
    "    - They should align to a diagonal line.\n",
    "- Add some text to the plot indicating the average $R^2$ coefficient"
   ]
  },
  {
   "cell_type": "code",
   "execution_count": 128,
   "metadata": {
    "button": false,
    "collapsed": false,
    "deletable": true,
    "new_sheet": false,
    "run_control": {
     "read_only": false
    }
   },
   "outputs": [
    {
     "name": "stdout",
     "output_type": "stream",
     "text": [
      "[ 0.15813664 -0.08317844 -0.35358732]\n"
     ]
    },
    {
     "data": {
      "image/png": "[encoded data removed]",
      "text/plain": [
       "<matplotlib.figure.Figure at 0x11bf60950>"
      ]
     },
     "metadata": {},
     "output_type": "display_data"
    },
    {
     "data": {
      "text/plain": [
       "-0.25124347559103732"
      ]
     },
     "execution_count": 128,
     "metadata": {},
     "output_type": "execute_result"
    }
   ],
   "source": [
    "dtr = DecisionTreeRegressor()\n",
    "X_train, X_test, y_train, y_test = train_test_split(X_scld, y, test_size=0.33, random_state=42)\n",
    "dtr.fit(X_train, y_train)\n",
    "scrs = cross_val_score(dtr, X_train, y_train)\n",
    "print scrs\n",
    "y_pred = dtr.predict(X_test)\n",
    "plt.scatter(y_pred, y_test)\n",
    "plt.show()\n",
    "dtr.score(X_test, y_test)"
   ]
  },
  {
   "cell_type": "markdown",
   "metadata": {
    "button": false,
    "deletable": true,
    "new_sheet": false,
    "run_control": {
     "read_only": false
    }
   },
   "source": [
    "## 3. Random Forest Regressor\n",
    "\n",
    "\n",
    "1. Train a random forest regressor on the data and estimate the rating\n",
    "- Evaluate the score with a 3-fold shuffled cross validation\n",
    "- Do a scatter plot of the predicted vs actual scores for each of the 3 folds, do they match?\n",
    "- How does this plot compare with the previous one?\n",
    "> Answer: points are tighter now, indicating a better fit"
   ]
  },
  {
   "cell_type": "code",
   "execution_count": 122,
   "metadata": {
    "button": false,
    "collapsed": false,
    "deletable": true,
    "new_sheet": false,
    "run_control": {
     "read_only": false
    }
   },
   "outputs": [
    {
     "name": "stdout",
     "output_type": "stream",
     "text": [
      "[ 0.475373   -0.30937792  0.26695697  0.35660027  0.48063685]\n"
     ]
    },
    {
     "data": {
      "image/png": "[encoded data removed]",
      "text/plain": [
       "<matplotlib.figure.Figure at 0x11cc83250>"
      ]
     },
     "metadata": {},
     "output_type": "display_data"
    },
    {
     "data": {
      "text/plain": [
       "0.18508627571384739"
      ]
     },
     "execution_count": 122,
     "metadata": {},
     "output_type": "execute_result"
    }
   ],
   "source": [
    "rand_forest = RandomForestRegressor()\n",
    "rand_forest.fit(X_train, y_train)\n",
    "scores = cross_val_score(rand_forest, X_train, y_train, cv=5)\n",
    "print scores\n",
    "y_pred = rand_forest.predict(X_test)\n",
    "plt.scatter(y_pred, y_test)\n",
    "plt.show()\n",
    "rand_forest.score(X_test, y_test)"
   ]
  },
  {
   "cell_type": "markdown",
   "metadata": {
    "button": false,
    "deletable": true,
    "new_sheet": false,
    "run_control": {
     "read_only": false
    }
   },
   "source": [
    "## 4. AdaBoost Regressor\n",
    "\n",
    "\n",
    "1. Train a AdaBoost regressor on the data and estimate the rating\n",
    "- Evaluate the score with a 3-fold shuffled cross validation\n",
    "- Do a scatter plot of the predicted vs actual scores for each of the 3 folds, do they match?\n",
    "- Compare with previous score"
   ]
  },
  {
   "cell_type": "code",
   "execution_count": 123,
   "metadata": {
    "button": false,
    "collapsed": false,
    "deletable": true,
    "new_sheet": false,
    "run_control": {
     "read_only": false
    }
   },
   "outputs": [
    {
     "name": "stdout",
     "output_type": "stream",
     "text": [
      "[ 0.29534554  0.33781509  0.34461734]\n"
     ]
    },
    {
     "data": {
      "image/png": "[encoded data removed]",
      "text/plain": [
       "<matplotlib.figure.Figure at 0x11be7a250>"
      ]
     },
     "metadata": {},
     "output_type": "display_data"
    },
    {
     "name": "stdout",
     "output_type": "stream",
     "text": [
      "0.294428241085\n",
      "The score is higher still.\n"
     ]
    }
   ],
   "source": [
    "abr = AdaBoostRegressor()\n",
    "abr.fit(X_train, y_train)\n",
    "scores = cross_val_score(abr, X_train, y_train)\n",
    "print scores\n",
    "y_pred = abr.predict(X_test)\n",
    "plt.scatter(y_pred, y_test)\n",
    "plt.show()\n",
    "print abr.score(X_test, y_test)\n",
    "print 'The score is higher still.'"
   ]
  },
  {
   "cell_type": "markdown",
   "metadata": {
    "button": false,
    "deletable": true,
    "new_sheet": false,
    "run_control": {
     "read_only": false
    }
   },
   "source": [
    "## 4. Gradient Boosting Trees Regressor\n",
    "\n",
    "\n",
    "1. Train a Gradient Boosting Trees regressor on the data and estimate the rating\n",
    "- Evaluate the score with a 3-fold shuffled cross validation\n",
    "- Do a scatter plot of the predicted vs actual scores for each of the 3 folds, do they match?\n",
    "- Compare with previous score"
   ]
  },
  {
   "cell_type": "code",
   "execution_count": 129,
   "metadata": {
    "button": false,
    "collapsed": false,
    "deletable": true,
    "new_sheet": false,
    "run_control": {
     "read_only": false
    }
   },
   "outputs": [
    {
     "name": "stdout",
     "output_type": "stream",
     "text": [
      "[ 0.40736617  0.21941568  0.42185965]\n"
     ]
    },
    {
     "data": {
      "image/png": "[encoded data removed]",
      "text/plain": [
       "<matplotlib.figure.Figure at 0x1158dc550>"
      ]
     },
     "metadata": {},
     "output_type": "display_data"
    },
    {
     "name": "stdout",
     "output_type": "stream",
     "text": [
      "0.202196372437\n",
      "The score is not as good as the AdaBoost regressor score.\n"
     ]
    }
   ],
   "source": [
    "gbr = GradientBoostingRegressor()\n",
    "gbr.fit(X_train, y_train)\n",
    "scores = cross_val_score(gbr, X_train, y_train)\n",
    "print scores\n",
    "y_pred = gbr.predict(X_test)\n",
    "plt.scatter(y_pred, y_test)\n",
    "plt.show()\n",
    "print gbr.score(X_test, y_test)\n",
    "print 'The score is not as good as the AdaBoost regressor score.'"
   ]
  },
  {
   "cell_type": "markdown",
   "metadata": {
    "button": false,
    "deletable": true,
    "new_sheet": false,
    "run_control": {
     "read_only": false
    }
   },
   "source": [
    "## 5. Tableau Practice\n",
    "\n",
    "Put your data into Tableau. Once it is there, make a new url on your website and upload your new Tableau document to your site. Post your website's URL below."
   ]
  },
  {
   "cell_type": "markdown",
   "metadata": {
    "button": false,
    "collapsed": true,
    "deletable": true,
    "new_sheet": false,
    "run_control": {
     "read_only": false
    }
   },
   "source": [
    "https://secure-bayou-76149.herokuapp.com/site/tableau/imdb/"
   ]
  },
  {
   "cell_type": "markdown",
   "metadata": {
    "button": false,
    "deletable": true,
    "new_sheet": false,
    "run_control": {
     "read_only": false
    }
   },
   "source": [
    "## Bonus\n",
    "\n",
    "Take the best model and try to improve it using grid search."
   ]
  },
  {
   "cell_type": "code",
   "execution_count": null,
   "metadata": {
    "button": false,
    "collapsed": true,
    "deletable": true,
    "new_sheet": false,
    "run_control": {
     "read_only": false
    }
   },
   "outputs": [],
   "source": []
  }
 ],
 "metadata": {
  "kernelspec": {
   "display_name": "Python [Root]",
   "language": "python",
   "name": "Python [Root]"
  },
  "language_info": {
   "codemirror_mode": {
    "name": "ipython",
    "version": 2
   },
   "file_extension": ".py",
   "mimetype": "text/x-python",
   "name": "python",
   "nbconvert_exporter": "python",
   "pygments_lexer": "ipython2",
   "version": "2.7.12"
  }
 },
 "nbformat": 4,
 "nbformat_minor": 0
}
